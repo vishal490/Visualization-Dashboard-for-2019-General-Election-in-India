{
 "cells": [
  {
   "cell_type": "markdown",
   "id": "e9eaa486",
   "metadata": {},
   "source": [
    "## Load Libraries"
   ]
  },
  {
   "cell_type": "code",
   "execution_count": 1,
   "id": "b46a7150",
   "metadata": {
    "tags": []
   },
   "outputs": [],
   "source": [
    "import dash\n",
    "import numpy as np\n",
    "import pandas as pd\n",
    "from dash import dcc, html\n",
    "import plotly.express as px\n",
    "import plotly.graph_objs as go\n",
    "from dash.dependencies import Input, Output"
   ]
  },
  {
   "cell_type": "markdown",
   "id": "f34d96af",
   "metadata": {},
   "source": [
    "## Load Util Code base"
   ]
  },
  {
   "cell_type": "code",
   "execution_count": 2,
   "id": "7bc5c2fa",
   "metadata": {
    "tags": []
   },
   "outputs": [],
   "source": [
    "from Utils.Sabari.util_functions import party_stats_process, sample_dummy_processing, get_state_updated_plots_party_stats, process_cols, sample_seats_won_state_wise, sample_state_constituencies_count"
   ]
  },
  {
   "cell_type": "code",
   "execution_count": 3,
   "id": "e408df64",
   "metadata": {},
   "outputs": [],
   "source": [
    "from Utils.Shubham.util_functions_shubham import IndiaMap,bar_graph,Update_Bar_Graph,constituency_level_graph,NOTA_VIZ_Constituency,criminal_cases_constituency_wise,criminal_cases_india_wise"
   ]
  },
  {
   "cell_type": "code",
   "execution_count": 4,
   "id": "91ba09cc-f85a-4df4-9f49-1f4305526299",
   "metadata": {},
   "outputs": [],
   "source": [
    "from Utils.Hemang.ab import get_pcp_default,get_pcp_state"
   ]
  },
  {
   "cell_type": "markdown",
   "id": "96fda8bd",
   "metadata": {},
   "source": [
    "## Read the dataset"
   ]
  },
  {
   "cell_type": "code",
   "execution_count": 5,
   "id": "fdd261bf",
   "metadata": {
    "tags": []
   },
   "outputs": [
    {
     "data": {
      "text/html": [
       "<div>\n",
       "<style scoped>\n",
       "    .dataframe tbody tr th:only-of-type {\n",
       "        vertical-align: middle;\n",
       "    }\n",
       "\n",
       "    .dataframe tbody tr th {\n",
       "        vertical-align: top;\n",
       "    }\n",
       "\n",
       "    .dataframe thead th {\n",
       "        text-align: right;\n",
       "    }\n",
       "</style>\n",
       "<table border=\"1\" class=\"dataframe\">\n",
       "  <thead>\n",
       "    <tr style=\"text-align: right;\">\n",
       "      <th></th>\n",
       "      <th>STATE</th>\n",
       "      <th>CONSTITUENCY</th>\n",
       "      <th>NAME</th>\n",
       "      <th>WINNER</th>\n",
       "      <th>PARTY</th>\n",
       "      <th>SYMBOL</th>\n",
       "      <th>GENDER</th>\n",
       "      <th>CRIMINAL_CASES</th>\n",
       "      <th>AGE</th>\n",
       "      <th>CATEGORY</th>\n",
       "      <th>...</th>\n",
       "      <th>LIABILITIES</th>\n",
       "      <th>GENERAL_VOTES</th>\n",
       "      <th>POSTAL_VOTES</th>\n",
       "      <th>TOTAL_VOTES</th>\n",
       "      <th>OVER_TOTAL_ELECTORS_IN_CONSTITUENCY</th>\n",
       "      <th>OVER_TOTAL_VOTES_POLLED_IN_CONSTITUENCY</th>\n",
       "      <th>TOTAL_ELECTORS</th>\n",
       "      <th>LITERATE</th>\n",
       "      <th>Zone</th>\n",
       "      <th>Age_Group</th>\n",
       "    </tr>\n",
       "  </thead>\n",
       "  <tbody>\n",
       "    <tr>\n",
       "      <th>0</th>\n",
       "      <td>TELANGANA</td>\n",
       "      <td>ADILABAD</td>\n",
       "      <td>SOYAM BAPU RAO</td>\n",
       "      <td>1</td>\n",
       "      <td>BJP</td>\n",
       "      <td>LOTUS</td>\n",
       "      <td>MALE</td>\n",
       "      <td>52</td>\n",
       "      <td>52</td>\n",
       "      <td>ST</td>\n",
       "      <td>...</td>\n",
       "      <td>231450</td>\n",
       "      <td>376892</td>\n",
       "      <td>482</td>\n",
       "      <td>377374</td>\n",
       "      <td>25.330684</td>\n",
       "      <td>35.468248</td>\n",
       "      <td>1489790</td>\n",
       "      <td>Literate</td>\n",
       "      <td>SOUTH ZONE</td>\n",
       "      <td>45-54</td>\n",
       "    </tr>\n",
       "  </tbody>\n",
       "</table>\n",
       "<p>1 rows × 22 columns</p>\n",
       "</div>"
      ],
      "text/plain": [
       "       STATE CONSTITUENCY            NAME  WINNER PARTY SYMBOL GENDER  \\\n",
       "0  TELANGANA     ADILABAD  SOYAM BAPU RAO       1   BJP  LOTUS   MALE   \n",
       "\n",
       "   CRIMINAL_CASES  AGE CATEGORY  ... LIABILITIES  GENERAL_VOTES  POSTAL_VOTES  \\\n",
       "0              52   52       ST  ...      231450         376892           482   \n",
       "\n",
       "   TOTAL_VOTES  OVER_TOTAL_ELECTORS_IN_CONSTITUENCY  \\\n",
       "0       377374                            25.330684   \n",
       "\n",
       "   OVER_TOTAL_VOTES_POLLED_IN_CONSTITUENCY  TOTAL_ELECTORS  LITERATE  \\\n",
       "0                                35.468248         1489790  Literate   \n",
       "\n",
       "         Zone Age_Group  \n",
       "0  SOUTH ZONE     45-54  \n",
       "\n",
       "[1 rows x 22 columns]"
      ]
     },
     "execution_count": 5,
     "metadata": {},
     "output_type": "execute_result"
    }
   ],
   "source": [
    "dataset = pd.read_csv(\"modified_dataset.csv\")\n",
    "dataset.head(1)"
   ]
  },
  {
   "cell_type": "code",
   "execution_count": 6,
   "id": "d811f048-6992-419a-9a7a-4afc016c13fb",
   "metadata": {
    "tags": []
   },
   "outputs": [
    {
     "name": "stdout",
     "output_type": "stream",
     "text": [
      "<class 'pandas.core.frame.DataFrame'>\n",
      "RangeIndex: 2263 entries, 0 to 2262\n",
      "Data columns (total 22 columns):\n",
      " #   Column                                   Non-Null Count  Dtype  \n",
      "---  ------                                   --------------  -----  \n",
      " 0   STATE                                    2263 non-null   object \n",
      " 1   CONSTITUENCY                             2263 non-null   object \n",
      " 2   NAME                                     2263 non-null   object \n",
      " 3   WINNER                                   2263 non-null   int64  \n",
      " 4   PARTY                                    2263 non-null   object \n",
      " 5   SYMBOL                                   2018 non-null   object \n",
      " 6   GENDER                                   2018 non-null   object \n",
      " 7   CRIMINAL_CASES                           2263 non-null   int64  \n",
      " 8   AGE                                      2263 non-null   int64  \n",
      " 9   CATEGORY                                 2018 non-null   object \n",
      " 10  EDUCATION                                2263 non-null   object \n",
      " 11  ASSETS                                   2263 non-null   int64  \n",
      " 12  LIABILITIES                              2263 non-null   int64  \n",
      " 13  GENERAL_VOTES                            2263 non-null   int64  \n",
      " 14  POSTAL_VOTES                             2263 non-null   int64  \n",
      " 15  TOTAL_VOTES                              2263 non-null   int64  \n",
      " 16  OVER_TOTAL_ELECTORS_IN_CONSTITUENCY      2263 non-null   float64\n",
      " 17  OVER_TOTAL_VOTES_POLLED_IN_CONSTITUENCY  2263 non-null   float64\n",
      " 18  TOTAL_ELECTORS                           2263 non-null   int64  \n",
      " 19  LITERATE                                 2263 non-null   object \n",
      " 20  Zone                                     2263 non-null   object \n",
      " 21  Age_Group                                2018 non-null   object \n",
      "dtypes: float64(2), int64(9), object(11)\n",
      "memory usage: 389.1+ KB\n"
     ]
    }
   ],
   "source": [
    "dataset.info()"
   ]
  },
  {
   "cell_type": "markdown",
   "id": "02d62528",
   "metadata": {
    "tags": []
   },
   "source": [
    "# Execute the Processing for individual modules"
   ]
  },
  {
   "cell_type": "markdown",
   "id": "db13de86",
   "metadata": {},
   "source": [
    "## Sample Analytics"
   ]
  },
  {
   "cell_type": "code",
   "execution_count": 7,
   "id": "e8c29b84",
   "metadata": {
    "tags": []
   },
   "outputs": [],
   "source": [
    "sample_dummy_processing(dataset)"
   ]
  },
  {
   "cell_type": "markdown",
   "id": "116b278f-91ff-480a-a474-5889e2ab5c81",
   "metadata": {
    "tags": []
   },
   "source": [
    "# process data for radar chart"
   ]
  },
  {
   "cell_type": "code",
   "execution_count": 8,
   "id": "16308e45-56f7-4d1e-89ba-173ac6e3326c",
   "metadata": {
    "tags": []
   },
   "outputs": [],
   "source": [
    "# Define age groups\n",
    "age_groups = {\n",
    "    '25-34': (25, 34),\n",
    "    '35-44': (35, 44),\n",
    "    '45-54': (45, 54),\n",
    "    '55-64': (55, 64),\n",
    "    '65-74': (65, 74),\n",
    "    '75+': (75, float('inf'))\n",
    "}\n",
    "\n",
    "# Group ages into the specified categories\n",
    "def group_age(age):\n",
    "    for group, (lower, upper) in age_groups.items():\n",
    "        if lower <= age <= upper:\n",
    "            return group\n",
    "\n",
    "# Apply the function to create a new column for age groups\n",
    "dataset['Age_Group'] = dataset['AGE'].apply(group_age)"
   ]
  },
  {
   "cell_type": "markdown",
   "id": "d1aadbeb-8c3d-47ed-b0a8-33f71fc7a21c",
   "metadata": {},
   "source": [
    "# process data for education pie-chart"
   ]
  },
  {
   "cell_type": "code",
   "execution_count": 9,
   "id": "eac1a924-6a02-4e24-b202-2583b9b07038",
   "metadata": {
    "tags": []
   },
   "outputs": [
    {
     "name": "stderr",
     "output_type": "stream",
     "text": [
      "/tmp/ipykernel_9341/708743138.py:4: SettingWithCopyWarning: \n",
      "A value is trying to be set on a copy of a slice from a DataFrame.\n",
      "Try using .loc[row_indexer,col_indexer] = value instead\n",
      "\n",
      "See the caveats in the documentation: https://pandas.pydata.org/pandas-docs/stable/user_guide/indexing.html#returning-a-view-versus-a-copy\n",
      "  filtered_df['EDUCATION'] = filtered_df['EDUCATION'].replace({'8th Pass': '8th/5th Pass', '5th Pass': '8th/5th Pass'})\n"
     ]
    }
   ],
   "source": [
    "# Remove entries with \"Not Available\" and \"Literate\" from the dataset\n",
    "filtered_df = dataset[(dataset['EDUCATION'] != 'Not Available') & (dataset['EDUCATION'] != 'Literate')]\n",
    "# Merge \"10th Pass\" and \"8th Pass\" entries into a single category\n",
    "filtered_df['EDUCATION'] = filtered_df['EDUCATION'].replace({'8th Pass': '8th/5th Pass', '5th Pass': '8th/5th Pass'})"
   ]
  },
  {
   "cell_type": "markdown",
   "id": "e579c760",
   "metadata": {},
   "source": [
    "## Party Specific Analytics"
   ]
  },
  {
   "cell_type": "code",
   "execution_count": 10,
   "id": "3b28be6f",
   "metadata": {
    "tags": []
   },
   "outputs": [],
   "source": [
    "party_stats_process(dataset)"
   ]
  },
  {
   "cell_type": "code",
   "execution_count": 11,
   "id": "b084ee16",
   "metadata": {},
   "outputs": [
    {
     "name": "stderr",
     "output_type": "stream",
     "text": [
      "/home/sabari/Workspace/Academics/BigData/FinalProject/repo/CS738_Big_Data_Project_IITK/Utils/Shubham/util_functions_shubham.py:155: SettingWithCopyWarning:\n",
      "\n",
      "\n",
      "A value is trying to be set on a copy of a slice from a DataFrame.\n",
      "Try using .loc[row_indexer,col_indexer] = value instead\n",
      "\n",
      "See the caveats in the documentation: https://pandas.pydata.org/pandas-docs/stable/user_guide/indexing.html#returning-a-view-versus-a-copy\n",
      "\n",
      "/home/sabari/Workspace/Academics/BigData/FinalProject/repo/CS738_Big_Data_Project_IITK/Utils/Shubham/util_functions_shubham.py:156: SettingWithCopyWarning:\n",
      "\n",
      "\n",
      "A value is trying to be set on a copy of a slice from a DataFrame.\n",
      "Try using .loc[row_indexer,col_indexer] = value instead\n",
      "\n",
      "See the caveats in the documentation: https://pandas.pydata.org/pandas-docs/stable/user_guide/indexing.html#returning-a-view-versus-a-copy\n",
      "\n"
     ]
    }
   ],
   "source": [
    "party_bar_graph = bar_graph(dataset)\n",
    "graph_bar_graph_ss = IndiaMap(dataset)\n",
    "graph_constituency_map_ss = constituency_level_graph(dataset)"
   ]
  },
  {
   "cell_type": "code",
   "execution_count": 12,
   "id": "53e8bf07",
   "metadata": {},
   "outputs": [
    {
     "name": "stderr",
     "output_type": "stream",
     "text": [
      "/home/sabari/Workspace/Academics/BigData/FinalProject/repo/CS738_Big_Data_Project_IITK/venv/lib/python3.11/site-packages/pandas/core/arraylike.py:399: RuntimeWarning:\n",
      "\n",
      "divide by zero encountered in log\n",
      "\n",
      "/home/sabari/Workspace/Academics/BigData/FinalProject/repo/CS738_Big_Data_Project_IITK/Utils/Shubham/util_functions_shubham.py:316: SettingWithCopyWarning:\n",
      "\n",
      "\n",
      "A value is trying to be set on a copy of a slice from a DataFrame.\n",
      "Try using .loc[row_indexer,col_indexer] = value instead\n",
      "\n",
      "See the caveats in the documentation: https://pandas.pydata.org/pandas-docs/stable/user_guide/indexing.html#returning-a-view-versus-a-copy\n",
      "\n"
     ]
    }
   ],
   "source": [
    "graph_NOTA_constituency_map_ss = NOTA_VIZ_Constituency(dataset)\n",
    "graph_Criminal_constituency_map_ss = criminal_cases_constituency_wise(dataset)\n",
    "graph_Criminal_india_map_ss = criminal_cases_india_wise(dataset)"
   ]
  },
  {
   "cell_type": "markdown",
   "id": "7c3fe5a7",
   "metadata": {},
   "source": [
    "## DASH Integration"
   ]
  },
  {
   "cell_type": "code",
   "execution_count": 13,
   "id": "215bcb8a",
   "metadata": {
    "tags": []
   },
   "outputs": [],
   "source": [
    "app = dash.Dash(__name__, prevent_initial_callbacks='initial_duplicate')"
   ]
  },
  {
   "cell_type": "code",
   "execution_count": 14,
   "id": "4c024e0e-4322-4d92-9451-6b1bf474bc3e",
   "metadata": {
    "tags": []
   },
   "outputs": [],
   "source": [
    "common_style = {'box-sizing': 'border-box','border': '1px solid Violet','margin': '0','padding': '0','width': '50%', 'display': 'inline-block'}"
   ]
  },
  {
   "cell_type": "code",
   "execution_count": 15,
   "id": "e0833859-3a8a-445c-8108-950b61615626",
   "metadata": {
    "tags": []
   },
   "outputs": [],
   "source": [
    "common_style_pcp = {'box-sizing': 'border-box','border': '1px solid Violet','margin': '0','padding': '0','width': '100%', 'display': 'inline-block'}"
   ]
  },
  {
   "cell_type": "code",
   "execution_count": 16,
   "id": "fe9b4b5c",
   "metadata": {
    "tags": []
   },
   "outputs": [],
   "source": [
    "# Define the layout\n",
    "# app.layout = html.Div([\n",
    "# #     dcc.Dropdown(\n",
    "# #         id='state-dropdown',\n",
    "# #         options=[{'label': col, 'value': col} for col in dataset.STATE.unique()]\n",
    "# #     ),\n",
    "#     html.H1(children='Indian Election 2019', style={'margin': '0', \n",
    "#                                                     'padding': '0',\n",
    "#                                                     'text-align': 'center',\n",
    "#                                                     'background-color': '#303030', \n",
    "#                                                     'color': '#FFFFFF',\n",
    "#                                                     'border': '1px solid Violet',\n",
    "#                                                     'box-sizing': 'border-box'}),\n",
    "#     html.Div([\n",
    "#         html.Div([\n",
    "#             dcc.Graph(id='graph_india_map_ss',figure=graph_bar_graph_ss, style=common_style),\n",
    "#             # dcc.Graph(id='graph_constituency_map_ss',figure=graph_constituency_map_ss, style=common_style),\n",
    "#             html.Div([\n",
    "#                     dcc.Dropdown(\n",
    "#                         id='constituency_graph_selection_dropdown',\n",
    "#                         options=[{'label': col, 'value': col} for col in [\"PARTY\", \"NOTA\", \"Criminal Cases\"]],\n",
    "#                         value=\"PARTY\",\n",
    "#                     ),\n",
    "#                     dcc.Graph(id='graph_constituency_based'),\n",
    "#                 ], style=common_style),\n",
    "#             ])\n",
    "#             # dcc.Graph(id='graph_constituency_based', style=common_style), \n",
    "#     ]),\n",
    "#     html.Div([\n",
    "#         html.Div([dcc.Graph(id='party_bar_graph1',figure=party_bar_graph)], style=common_style),\n",
    "#         html.Div([dcc.Graph(id='party_bar_graph2',figure=party_bar_graph)], style=common_style)\n",
    "#     ]),\n",
    "#      html.Div([\n",
    "#           dcc.Graph(id='pcp_state',figure=get_pcp_default(), style=common_style_pcp)\n",
    "#      ]),\n",
    "#     html.Div([\n",
    "#         dcc.Graph(id='education-pie-chart', style=common_style),\n",
    "#         dcc.Graph(id='radar-chart', style=common_style)\n",
    "#     ]),\n",
    "#     html.Div([\n",
    "#         html.Div([\n",
    "#             dcc.Graph(id='graph_Criminal_india_map_ss',figure=graph_Criminal_india_map_ss, style=common_style),\n",
    "#             html.Div([\n",
    "#                 html.Div([\n",
    "#                     dcc.Dropdown(\n",
    "#                         id='attribute-dropdown',\n",
    "#                         options=[{'label': col, 'value': col} for col in process_cols],\n",
    "#                         value=\"GENDER\",\n",
    "#                         # style=common_style#{'width': '48%', 'display': 'inline-block'}, \n",
    "#                     ),\n",
    "#                     dcc.Graph(id='graph11') , #style=common_style) #{'width': '48%', 'display': 'inline-block'})\n",
    "#             ], style=common_style),\n",
    "# #             dcc.Graph(id='graph_Criminal_constituency_map_ss',figure=graph_Criminal_constituency_map_ss, style={'width': '48%', 'display': 'inline-block'}),\n",
    "#         ])\n",
    "#     ])\n",
    "#     ]),\n",
    "#     # html.Div([\n",
    "#     #     dcc.Graph(id='graph0', style={'width': '48%', 'display': 'inline-block'}),\n",
    "#     #     dcc.Graph(id='graph00', style={'width': '48%', 'display': 'inline-block'})\n",
    "#     # ]),\n",
    "#     # html.Div([\n",
    "#     #     html.Div([\n",
    "#     #         dcc.Graph(id='graph1', style={'width': '48%', 'display': 'inline-block'}),\n",
    "#     #         dcc.Graph(id='graph2', style={'width': '48%', 'display': 'inline-block'}),\n",
    "#     #     ]),\n",
    "#     #     html.Div([\n",
    "#     #         dcc.Graph(id='graph3', style={'width': '48%', 'display': 'inline-block'}),\n",
    "#     #         dcc.Graph(id='graph4', style={'width': '48%', 'display': 'inline-block'})\n",
    "#     #     ])\n",
    "#     # ])    ,\n",
    "\n",
    "#     html.Div([\n",
    "#         html.Div(id='state-info')\n",
    "#     ])\n",
    "# ])"
   ]
  },
  {
   "cell_type": "code",
   "execution_count": 17,
   "id": "71383aac-fa3a-4865-aed6-a7f33990ae7f",
   "metadata": {},
   "outputs": [],
   "source": [
    "app.layout = html.Div([\n",
    "    html.H1(children='Indian Election 2019', style={'margin': '0', \n",
    "                                                    'padding': '0',\n",
    "                                                    'text-align': 'center',\n",
    "                                                    'background-color': '#303030', \n",
    "                                                    'color': '#FFFFFF',\n",
    "                                                    'border': '1px solid Violet',\n",
    "                                                    'box-sizing': 'border-box'}),\n",
    "    html.Div([\n",
    "        html.Div([\n",
    "                dcc.Graph(id='graph_india_map_ss',figure=graph_bar_graph_ss, style=common_style),\n",
    "                dcc.Graph(id='party_bar_graph1',figure=party_bar_graph, style=common_style)\n",
    "            ])\n",
    "    ]),\n",
    "    html.Div([\n",
    "        dcc.Graph(id='education-pie-chart', style=common_style),\n",
    "        dcc.Graph(id='radar-chart', style=common_style)\n",
    "    ]),\n",
    "     html.Div([\n",
    "          dcc.Graph(id='pcp_state',figure=get_pcp_default(), style=common_style_pcp)\n",
    "     ]),\n",
    "    html.Div([\n",
    "        html.Div([\n",
    "            html.Div([\n",
    "                    dcc.Dropdown(\n",
    "                        id='attribute-dropdown',\n",
    "                        options=[{'label': col, 'value': col} for col in process_cols],\n",
    "                        value=\"GENDER\",\n",
    "                    ),\n",
    "                    dcc.Graph(id='graph11', figure=get_state_updated_plots_party_stats(None)[\"GENDER\"]),\n",
    "            ], style=common_style\n",
    "            ),\n",
    "        html.Div([\n",
    "            dcc.Dropdown(\n",
    "                id='zone-dropdown',\n",
    "                options=[{'label': zone, 'value': zone} for zone in dataset.Zone.unique()],\n",
    "                value=dataset.Zone.unique()[0] , # Default value\n",
    "            ),\n",
    "            dcc.Graph(id='bar-chart')\n",
    "        ], style=common_style),\n",
    "        ]),\n",
    "    ]),\n",
    "    html.Div([\n",
    "            html.Div([\n",
    "            dcc.Dropdown(\n",
    "                id='constituency_graph_selection_dropdown',\n",
    "                options=[{'label': col, 'value': col} for col in [\"PARTY\", \"NOTA\", \"Criminal Cases\"]],\n",
    "                value=\"PARTY\",\n",
    "            ),\n",
    "            dcc.Graph(id='graph_constituency_based', figure=graph_constituency_map_ss),\n",
    "        ], style=common_style),\n",
    "        # html.Div([\n",
    "            dcc.Graph(id='graph_Criminal_india_map_ss',figure=graph_Criminal_india_map_ss, style=common_style)\n",
    "    # ])\n",
    "    ]),\n",
    "    # html.Div([\n",
    "    #     html.Div(id='state-info')\n",
    "    # ])\n",
    "])"
   ]
  },
  {
   "cell_type": "markdown",
   "id": "673b88dc",
   "metadata": {
    "tags": []
   },
   "source": [
    "## Callbacks for each of the Drop downs"
   ]
  },
  {
   "cell_type": "code",
   "execution_count": 18,
   "id": "0cdd64e9-9c37-4d4f-921a-d85d997dd0c9",
   "metadata": {
    "tags": []
   },
   "outputs": [],
   "source": [
    "curr_attr_global = \"GENDER\""
   ]
  },
  {
   "cell_type": "code",
   "execution_count": 19,
   "id": "b8133159",
   "metadata": {
    "tags": []
   },
   "outputs": [],
   "source": [
    "@app.callback(\n",
    "    [\n",
    "        Output('graph11', 'figure', allow_duplicate=True), \n",
    "        Output('party_bar_graph1', 'figure', allow_duplicate=True), \n",
    "        Output('pcp_state', 'figure', allow_duplicate=True)\n",
    "    ],\n",
    "    \n",
    "        [Input('graph_india_map_ss', 'clickData')],\n",
    "    prevent_initial_call=True\n",
    ")\n",
    "\n",
    "def update_graph_state_selection(clickData):\n",
    "#     print(\"State\")\n",
    "    # Get the sample 0 plot\n",
    "    if clickData is not None:\n",
    "        selected_column = clickData['points'][0]['hovertext']\n",
    "#     print(selected_column)\n",
    "    # seats_won_fig = sample_seats_won_state_wise(selected_column)\n",
    "    # seats_count_fig = sample_state_constituencies_count()\n",
    "    \n",
    "    state_filtered = get_state_updated_plots_party_stats(selected_column)\n",
    "    state_bar_graph = Update_Bar_Graph(selected_column)\n",
    "    pcp_plot = get_pcp_state(selected_column)\n",
    "    \n",
    "    # if curr_attr is None:\n",
    "    #     attr_plot = [list(state_filtered.values())[0]]\n",
    "    # else:\n",
    "    attr_plot = state_filtered[curr_attr_global]\n",
    "    # return [seats_count_fig, seats_won_fig] + \n",
    "    # return list(state_filtered.values()) + \n",
    "    return [attr_plot, state_bar_graph, pcp_plot]\n",
    "\n",
    " # Define callback to update graphs = attribute\n",
    "@app.callback(\n",
    "    [Output('graph11', 'figure')],\n",
    "    [Input('graph_india_map_ss', 'clickData'), Input('attribute-dropdown', 'value')],prevent_initial_call=True\n",
    ")\n",
    "\n",
    "def update_graph_attribute_selection(clickData, attribute):\n",
    "#     print(curr_state, \"Attr\")\n",
    "    curr_state = clickData\n",
    "    global curr_attr_global\n",
    "    curr_attr_global = attribute\n",
    "    \n",
    "    if clickData is not None:\n",
    "        curr_state = clickData['points'][0]['hovertext']\n",
    "    state_filtered = get_state_updated_plots_party_stats(curr_state)\n",
    "    if curr_attr_global is None:\n",
    "        return [list(state_filtered.values())[0]]\n",
    "    return [state_filtered[curr_attr_global]]\n",
    "\n",
    "# def update_graph_attribute_selection(curr_state, attribute):\n",
    "# #     print(curr_state, \"Attr\")\n",
    "#     if clickData is not None:\n",
    "#         curr_state = clickData['points'][0]['hovertext']\n",
    "#     state_filtered = get_state_updated_plots_party_stats(curr_state)\n",
    "#     if attribute is None:\n",
    "#         return [list(state_filtered.values())[0]]\n",
    "#     return [state_filtered[attribute]]\n",
    "\n",
    "\n",
    "\n",
    "# @app.callback(\n",
    "#     Output('state-info', 'children'),\n",
    "#     [Input('graph_india_map_ss', 'clickData')]\n",
    "# )\n",
    "# def update_state_info(clickData):\n",
    "#     if clickData is not None:\n",
    "#         selected_state = clickData['points'][0]['hovertext']\n",
    "#         print(selected_state)\n",
    "#         return [html.H2(f'Selected State: {selected_state}')]\n",
    "#     else:\n",
    "#         # If no region is clicked, display a default message or leave it empty\n",
    "#         return [html.Div('Click on a state to see details')]\n",
    "    \n",
    "# Constituency based graph selection\n",
    "@app.callback(\n",
    "    [Output('graph_constituency_based', 'figure')],\n",
    "    [Input('constituency_graph_selection_dropdown', 'value')],prevent_initial_call=True\n",
    ")\n",
    "\n",
    "def update_graph_attribute_selection(graph_req):\n",
    "    graph_maps = {\"PARTY\":graph_constituency_map_ss, \"NOTA\":graph_NOTA_constituency_map_ss, \"Criminal Cases\":graph_Criminal_constituency_map_ss}\n",
    "    print(graph_maps[graph_req])\n",
    "    return [graph_maps[graph_req]]\n",
    "# Run the app\n",
    "\n"
   ]
  },
  {
   "cell_type": "code",
   "execution_count": 20,
   "id": "50313e30-1952-423e-b22e-d183f739be1f",
   "metadata": {},
   "outputs": [],
   "source": [
    "@app.callback(\n",
    "    Output('education-pie-chart', 'figure'),\n",
    "    [Input('graph_india_map_ss', 'clickData')]\n",
    ")\n",
    "def update_pie_chart(clickData):\n",
    "    if clickData is not None:\n",
    "        selected_state = clickData['points'][0]['hovertext']\n",
    "        state_filtered_df = filtered_df[filtered_df['STATE'] == selected_state]\n",
    "        education_counts = state_filtered_df['EDUCATION'].value_counts()\n",
    "        title = f'Education Distribution in {selected_state}'\n",
    "    else:\n",
    "        education_counts = filtered_df['EDUCATION'].value_counts()\n",
    "        title = 'Education Distribution (All States)'\n",
    "\n",
    "    fig = px.pie(education_counts, values=education_counts.values, names=education_counts.index, title=title)\n",
    "    return fig\n",
    "\n",
    "@app.callback(\n",
    "    Output('radar-chart', 'figure'),\n",
    "    [Input('graph_india_map_ss', 'clickData')]\n",
    ")\n",
    "def update_radar_chart(clickData):\n",
    "    if clickData is not None:\n",
    "        state = clickData['points'][0]['hovertext']\n",
    "    else:\n",
    "        state = \"All India\"\n",
    "    \n",
    "    try:\n",
    "        if state == 'All India':\n",
    "            filtered_df = dataset\n",
    "            title = \"Average Asset Holding Percentage (All India)\"\n",
    "        else:\n",
    "            filtered_df = dataset[dataset['STATE'] == state]\n",
    "            title = f\"Average Asset Holding Percentage in {state}\"\n",
    "\n",
    "        if filtered_df.empty:\n",
    "            raise ValueError(f\"No data available for the selected state: {state}\")\n",
    "\n",
    "        # Separate asset holdings by gender\n",
    "        male_df = filtered_df[filtered_df['GENDER'] == 'MALE']\n",
    "        female_df = filtered_df[filtered_df['GENDER'] == 'FEMALE']\n",
    "\n",
    "        # Aggregate data by age group for each gender\n",
    "        male_asset_by_age_group = male_df.groupby('Age_Group')['ASSETS'].sum()\n",
    "        female_asset_by_age_group = female_df.groupby('Age_Group')['ASSETS'].sum()\n",
    "\n",
    "        # Calculate total assets for each gender\n",
    "        total_male_assets = male_asset_by_age_group.sum()\n",
    "        total_female_assets = female_asset_by_age_group.sum()\n",
    "\n",
    "        # Calculate the percentage of assets for each gender and age group\n",
    "        male_asset_percentage_by_age_group = (male_asset_by_age_group / total_male_assets) * 100\n",
    "        female_asset_percentage_by_age_group = (female_asset_by_age_group / total_female_assets) * 100\n",
    "\n",
    "        # Define categories (age groups)\n",
    "        categories_male = male_asset_percentage_by_age_group.index\n",
    "        categories_female = female_asset_percentage_by_age_group.index\n",
    "        # Create radar charts for male and female\n",
    "        fig = go.Figure()\n",
    "\n",
    "        # Add trace for male\n",
    "        fig.add_trace(\n",
    "            go.Scatterpolar(\n",
    "                r=male_asset_percentage_by_age_group.values,\n",
    "                theta=categories_male,\n",
    "                fill='toself',\n",
    "                fillcolor='rgba(31, 119, 180, 0.5)',  # Light blue for male\n",
    "                name='Male'\n",
    "            )\n",
    "        )\n",
    "\n",
    "        # Add trace for female\n",
    "        fig.add_trace(\n",
    "            go.Scatterpolar(\n",
    "                r=female_asset_percentage_by_age_group.values,\n",
    "                theta=categories_female,\n",
    "                fill='toself',\n",
    "                fillcolor='rgba(255, 127, 14, 0.5)',  # Light orange for female\n",
    "                name='Female'\n",
    "            )\n",
    "        )\n",
    "\n",
    "        # Update layout\n",
    "        fig.update_layout(\n",
    "            polar=dict(\n",
    "                radialaxis=dict(\n",
    "                    visible=True,\n",
    "                    range=[0, 100],  # Set range for radial axis (percentage)\n",
    "                    tickvals=[i * 10 for i in range(11)],  # Set tick values for radial axis (0%, 10%, 20%, ..., 100%)\n",
    "                    ticktext=[f\"{i * 10}%\" for i in range(11)],  # Set tick labels for radial axis\n",
    "                )\n",
    "            ),\n",
    "            title=title,\n",
    "            # width=800,  # Adjust width of the figure\n",
    "            # height=600,  # Adjust height of the figure\n",
    "            # margin=dict(l=50, r=50, t=50, b=50)  # Adjust margins\n",
    "        )\n",
    "\n",
    "        return fig\n",
    "    except Exception as e:\n",
    "        print(\"Error:\", e)\n",
    "        return go.Figure()\n"
   ]
  },
  {
   "cell_type": "code",
   "execution_count": 21,
   "id": "21915cd4-9c40-4518-92e6-bf8e38a8bea1",
   "metadata": {},
   "outputs": [],
   "source": [
    "@app.callback(\n",
    "    Output('bar-chart', 'figure'),\n",
    "    [Input('zone-dropdown', 'value')]\n",
    ")\n",
    "def update_bar_chart(selected_zone):\n",
    "    # Filter dataset based on selected zone\n",
    "    filtered_data = dataset[dataset['Zone'] == selected_zone]\n",
    "    \n",
    "    # Group by state and zone, and calculate sum of total votes and total electors\n",
    "    grouped = filtered_data.groupby(['STATE', 'Zone', 'CONSTITUENCY']).agg({'TOTAL_VOTES': 'sum', 'TOTAL_ELECTORS': 'first'}).reset_index()\n",
    "    grouped_state = grouped.groupby(['STATE', 'Zone']).agg({'TOTAL_VOTES': 'sum', 'TOTAL_ELECTORS': 'sum'}).reset_index()\n",
    "\n",
    "    # Calculate percentage of total votes for each state\n",
    "    grouped_state['PERCENTAGE_TOTAL_VOTES'] = (grouped_state['TOTAL_VOTES'] / grouped_state['TOTAL_ELECTORS'])*100\n",
    "\n",
    "    fig = px.bar(\n",
    "        grouped_state[grouped_state['Zone'] == selected_zone],\n",
    "        x='STATE',\n",
    "        y='PERCENTAGE_TOTAL_VOTES',\n",
    "        title=f'Total Percentage of Voters by State in {selected_zone} Zone',\n",
    "        labels={'STATE': 'State', 'PERCENTAGE_TOTAL_VOTES': 'Percentage of Voters'}\n",
    "    )\n",
    "\n",
    "    fig.update_layout(xaxis_title='State', yaxis_title='Percentage of Voters', yaxis_range=[0, 100])\n",
    "    return fig"
   ]
  },
  {
   "cell_type": "code",
   "execution_count": 22,
   "id": "e1ea8a75",
   "metadata": {},
   "outputs": [
    {
     "data": {
      "text/html": [
       "\n",
       "        <iframe\n",
       "            width=\"100%\"\n",
       "            height=\"650\"\n",
       "            src=\"http://127.0.0.1:8089/\"\n",
       "            frameborder=\"0\"\n",
       "            allowfullscreen\n",
       "            \n",
       "        ></iframe>\n",
       "        "
      ],
      "text/plain": [
       "<IPython.lib.display.IFrame at 0x7b3725a32850>"
      ]
     },
     "metadata": {},
     "output_type": "display_data"
    }
   ],
   "source": [
    "if __name__ == '__main__':\n",
    "    app.run_server(debug=False, port=8089)"
   ]
  },
  {
   "cell_type": "code",
   "execution_count": null,
   "id": "aec3fda8-0ca9-4f13-9656-fa730c429628",
   "metadata": {},
   "outputs": [],
   "source": []
  }
 ],
 "metadata": {
  "kernelspec": {
   "display_name": "big_data_repo",
   "language": "python",
   "name": "big_data_repo"
  },
  "language_info": {
   "codemirror_mode": {
    "name": "ipython",
    "version": 3
   },
   "file_extension": ".py",
   "mimetype": "text/x-python",
   "name": "python",
   "nbconvert_exporter": "python",
   "pygments_lexer": "ipython3",
   "version": "3.11.6"
  }
 },
 "nbformat": 4,
 "nbformat_minor": 5
}
